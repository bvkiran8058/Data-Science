{
 "cells": [
  {
   "cell_type": "code",
   "execution_count": 1,
   "id": "92664548",
   "metadata": {},
   "outputs": [
    {
     "data": {
      "text/plain": [
       "'2.3.1'"
      ]
     },
     "execution_count": 1,
     "metadata": {},
     "output_type": "execute_result"
    }
   ],
   "source": [
    "import numpy as np\n",
    "np.__version__"
   ]
  },
  {
   "cell_type": "markdown",
   "id": "c92c17ca",
   "metadata": {},
   "source": [
    "### 1. Matrix Playground\n",
    "Problem Statement:\n",
    "Create a matrix playground script that does the following:\n",
    "\n",
    "Creates 2D arrays of any shape\n",
    "\n",
    "Transposes them\n",
    "\n",
    "Calculates row/column sums, means, min/max\n",
    "\n",
    "🔧 Skills: Array creation, shape manipulation, broadcasting"
   ]
  },
  {
   "cell_type": "code",
   "execution_count": 2,
   "id": "378d94a9",
   "metadata": {},
   "outputs": [
    {
     "name": "stdout",
     "output_type": "stream",
     "text": [
      "matrix = [[8 3 9]\n",
      " [3 6 1]\n",
      " [1 7 5]]\n",
      "transpose matrix = [[8 3 1]\n",
      " [3 6 7]\n",
      " [9 1 5]]\n",
      "rows_sum = [12 16 15]\n",
      "rows_mean = [4.         5.33333333 5.        ]\n",
      "rows_min = [1 3 1]\n",
      "rows_max = [8 7 9]\n",
      "cols_sum = [20 10 13]\n",
      "cols_mean = [6.66666667 3.33333333 4.33333333]\n",
      "cols_min = [3 1 1]\n",
      "cols_max = [9 6 7]\n"
     ]
    }
   ],
   "source": [
    "def matrix_playground(shape=(3,3)):\n",
    "    if len(shape) != 2:\n",
    "        return \"please provide shape in matrix format\"\n",
    "    rng = np.random.default_rng()\n",
    "    matrix = rng.integers(1, 10, size=shape) # or np.arange()\n",
    "    trans_mat = matrix.T\n",
    "    print(f'matrix = {matrix}')\n",
    "    print(f'transpose matrix = {trans_mat}')\n",
    "    rows_sum = np.sum(trans_mat, axis=1)\n",
    "    print(f'rows_sum = {rows_sum}')\n",
    "    rows_mean = np.mean(trans_mat, axis=1)\n",
    "    print(f'rows_mean = {rows_mean}')\n",
    "    rows_min = np.min(trans_mat, axis=1)\n",
    "    print(f'rows_min = {rows_min}')\n",
    "    rows_max = np.max(trans_mat, axis=1)\n",
    "    print(f'rows_max = {rows_max}')\n",
    "    cols_sum = np.sum(trans_mat, axis=0)\n",
    "    print(f'cols_sum = {cols_sum}')\n",
    "    cols_mean = np.mean(trans_mat, axis=0)\n",
    "    print(f'cols_mean = {cols_mean}')\n",
    "    cols_min = np.min(trans_mat, axis=0)\n",
    "    print(f'cols_min = {cols_min}')\n",
    "    cols_max = np.max(trans_mat, axis=0)\n",
    "    print(f'cols_max = {cols_max}')\n",
    "matrix_playground()"
   ]
  },
  {
   "cell_type": "markdown",
   "id": "faf93920",
   "metadata": {},
   "source": [
    "### 2. Custom Array Statistics Calculator\n",
    "Problem Statement:\n",
    "Write a program to:\n",
    "\n",
    "Input a list of numbers\n",
    "\n",
    "Convert to NumPy array\n",
    "\n",
    "Compute: mean, median, mode, std dev, variance"
   ]
  },
  {
   "cell_type": "code",
   "execution_count": 3,
   "id": "b5a6c757",
   "metadata": {},
   "outputs": [
    {
     "name": "stdout",
     "output_type": "stream",
     "text": [
      "original list: [1 3 1 6 6 9 9 5 2 9]\n",
      "Mean: 5.1\n",
      "Median: 5.5\n",
      "Mode: 9\n",
      "Standard Deviation: 3.080584360149873\n",
      "Variance: 9.490000000000002\n"
     ]
    }
   ],
   "source": [
    "from scipy import stats\n",
    "\n",
    "def list_to_numpy(lis: list):\n",
    "    array = np.array(lis)\n",
    "    mean = np.mean(array)\n",
    "    print(f\"Mean: {mean}\")\n",
    "    median = np.median(array)\n",
    "    print(f\"Median: {median}\")\n",
    "    mode = stats.mode(array)[0]\n",
    "    print(f\"Mode: {mode}\")\n",
    "    std = np.std(array)\n",
    "    print(f\"Standard Deviation: {std}\")\n",
    "    var = np.var(array)\n",
    "    print(f\"Variance: {var}\")\n",
    "lis =np.random.randint(1,10, size = 10)\n",
    "print('original list:',lis)\n",
    "list_to_numpy(lis)"
   ]
  },
  {
   "cell_type": "markdown",
   "id": "00eb8a6b",
   "metadata": {},
   "source": [
    "### 3. Gradebook Generator\n",
    "Problem Statement:\n",
    "Create a 2D array representing student grades (10 students x 5 subjects).\n",
    "Perform:\n",
    "\n",
    "Row-wise average (student average)\n",
    "\n",
    "Column-wise average (subject average)\n",
    "\n",
    "Rank students"
   ]
  },
  {
   "cell_type": "code",
   "execution_count": 4,
   "id": "a8f568e0",
   "metadata": {},
   "outputs": [
    {
     "name": "stdout",
     "output_type": "stream",
     "text": [
      "Original Data:\n",
      "[[64 41 82 16 78]\n",
      " [10 28  7 64 95]\n",
      " [29 45 71  7 88]\n",
      " [28 13 86 87 69]\n",
      " [37 45 14 66  4]\n",
      " [55 59 74 41 92]\n",
      " [97 48 34  1 33]\n",
      " [96 22 49 36 56]\n",
      " [54 67 80 75 91]\n",
      " [49 93 49 84 25]]\n",
      "\n",
      "Student Averages:\n",
      "[56.2 40.8 48.  56.6 33.2 64.2 42.6 51.8 73.4 60. ]\n",
      "\n",
      "Subject Averages:\n",
      "[51.9 46.1 54.6 47.7 63.1]\n",
      "\n",
      "Sorted Student Averages:\n",
      "[33.2 40.8 42.6 48.  51.8 56.2 56.6 60.  64.2 73.4]\n",
      "\n",
      "Student Ranks:\n",
      "[ 5  2  7  3  8  1  4 10  6  9]\n"
     ]
    }
   ],
   "source": [
    "data = np.random.randint(1, 100, size=(10,5))\n",
    "print(\"Original Data:\")\n",
    "print(data)\n",
    "\n",
    "student_avg = np.mean(data, axis=1)\n",
    "print(\"\\nStudent Averages:\")\n",
    "print(student_avg)\n",
    "\n",
    "sub_avg = np.mean(data, axis=0)\n",
    "print(\"\\nSubject Averages:\")\n",
    "print(sub_avg)\n",
    "\n",
    "sort_stu = np.sort(student_avg)\n",
    "print(\"\\nSorted Student Averages:\")\n",
    "print(sort_stu)\n",
    "\n",
    "ranks = np.argsort(student_avg) +1\n",
    "print(\"\\nStudent Ranks:\")\n",
    "print(ranks)"
   ]
  },
  {
   "cell_type": "markdown",
   "id": "ec767914",
   "metadata": {},
   "source": [
    "### 4. Grade Analyzer\n",
    "📌 Problem Statement:\n",
    "Simulate student marks for 5 subjects and calculate:\n",
    "\n",
    "Total and average marks per student\n",
    "\n",
    "Highest/lowest scoring student\n",
    "\n",
    "Average score per subject"
   ]
  },
  {
   "cell_type": "code",
   "execution_count": 5,
   "id": "02357b58",
   "metadata": {},
   "outputs": [
    {
     "name": "stdout",
     "output_type": "stream",
     "text": [
      "Student Marks:\n",
      "[[45 40 20 57 12]\n",
      " [70 94 86 49 16]\n",
      " [44 28 57 28 45]\n",
      " [11 70 66 75 88]\n",
      " [ 3 62 79 37  6]\n",
      " [69 72  3  3 38]\n",
      " [16 61 37 64 88]\n",
      " [16 77 53 24 62]\n",
      " [32 37 54 38 79]\n",
      " [70 20 87 50 47]]\n",
      "\n",
      "Total Marks per Student:\n",
      "[174 315 202 310 187 185 266 232 240 274]\n",
      "\n",
      "Average Marks per Student:\n",
      "[34.8 63.  40.4 62.  37.4 37.  53.2 46.4 48.  54.8]\n",
      "\n",
      "Average Score per Subject:\n",
      "[37.6 56.1 54.2 42.5 48.1]\n",
      "\n",
      "Highest Scoring Student per Subject:\n",
      "[1 1 9 3 3]\n",
      "\n",
      "Lowest Scoring Student per Subject:\n",
      "[4 9 5 5 4]\n"
     ]
    }
   ],
   "source": [
    "students = np.random.randint(1,100, size=(10,5))\n",
    "print(\"Student Marks:\")\n",
    "print(students)\n",
    "\n",
    "stu_tot_marks = np.sum(students, axis=1)\n",
    "print(\"\\nTotal Marks per Student:\")\n",
    "print(stu_tot_marks)\n",
    "\n",
    "stu_avg = np.mean(students, axis=1)\n",
    "print(\"\\nAverage Marks per Student:\")\n",
    "print(stu_avg)\n",
    "\n",
    "sub_avg = np.mean(students, axis=0)\n",
    "print(\"\\nAverage Score per Subject:\")\n",
    "print(sub_avg)\n",
    "\n",
    "stu_max = np.argmax(students, axis=0)\n",
    "print(\"\\nHighest Scoring Student per Subject:\")\n",
    "print(stu_max)\n",
    "\n",
    "stu_min = np.argmin(students, axis=0)\n",
    "print(\"\\nLowest Scoring Student per Subject:\")\n",
    "print(stu_min)"
   ]
  },
  {
   "cell_type": "markdown",
   "id": "31947581",
   "metadata": {},
   "source": [
    "### 5. Array Shape Transformer\n",
    "📌 Problem Statement:\n",
    "Take an array of size 12 and reshape it into different shapes:\n",
    "\n",
    "3x4\n",
    "\n",
    "2x6\n",
    "\n",
    "Flatten back to 1D\n",
    "\n",
    "reshape(), ravel(), flatten(), resize()"
   ]
  },
  {
   "cell_type": "code",
   "execution_count": 6,
   "id": "13374e28",
   "metadata": {},
   "outputs": [
    {
     "data": {
      "text/plain": [
       "array([27, 52, 16, 56, 72, 86, 43, 26, 77, 43, 83,  6], dtype=int32)"
      ]
     },
     "execution_count": 6,
     "metadata": {},
     "output_type": "execute_result"
    }
   ],
   "source": [
    "array = np.random.randint(1,100, size=12)\n",
    "array"
   ]
  },
  {
   "cell_type": "code",
   "execution_count": 7,
   "id": "7c2fc1f4",
   "metadata": {},
   "outputs": [
    {
     "data": {
      "text/plain": [
       "(array([[27, 52, 16, 56],\n",
       "        [72, 86, 43, 26],\n",
       "        [77, 43, 83,  6]], dtype=int32),\n",
       " array([27, 52, 16, 56, 72, 86, 43, 26, 77, 43, 83,  6], dtype=int32))"
      ]
     },
     "execution_count": 7,
     "metadata": {},
     "output_type": "execute_result"
    }
   ],
   "source": [
    "array.reshape((3,4)), array # it won't change array to change we need to assign to another variable"
   ]
  },
  {
   "cell_type": "code",
   "execution_count": 8,
   "id": "177886ba",
   "metadata": {},
   "outputs": [
    {
     "data": {
      "text/plain": [
       "(None,\n",
       " array([[27, 52, 16, 56, 72, 86],\n",
       "        [43, 26, 77, 43, 83,  6]], dtype=int32))"
      ]
     },
     "execution_count": 8,
     "metadata": {},
     "output_type": "execute_result"
    }
   ],
   "source": [
    "array.resize((2,6)), array # it will channge the array itself"
   ]
  },
  {
   "cell_type": "code",
   "execution_count": 9,
   "id": "b8affce8",
   "metadata": {},
   "outputs": [
    {
     "data": {
      "text/plain": [
       "(array([27, 52, 16, 56, 72, 86, 43, 26, 77, 43, 83,  6], dtype=int32),\n",
       " array([[27, 52, 16, 56, 72, 86],\n",
       "        [43, 26, 77, 43, 83,  6]], dtype=int32))"
      ]
     },
     "execution_count": 9,
     "metadata": {},
     "output_type": "execute_result"
    }
   ],
   "source": [
    "array.flatten(), array"
   ]
  },
  {
   "cell_type": "code",
   "execution_count": 10,
   "id": "c0f97bdf",
   "metadata": {},
   "outputs": [
    {
     "data": {
      "text/plain": [
       "(array([27, 52, 16, 56, 72, 86, 43, 26, 77, 43, 83,  6], dtype=int32),\n",
       " array([[27, 52, 16, 56, 72, 86],\n",
       "        [43, 26, 77, 43, 83,  6]], dtype=int32))"
      ]
     },
     "execution_count": 10,
     "metadata": {},
     "output_type": "execute_result"
    }
   ],
   "source": [
    "array.ravel(), array"
   ]
  },
  {
   "cell_type": "markdown",
   "id": "174dbb68",
   "metadata": {},
   "source": [
    "### 6. Dice Roll Simulation\n",
    "📌 Problem Statement:\n",
    "Simulate rolling a dice 1000 times and:\n",
    "\n",
    "Count frequency of each number (1–6)\n",
    "\n",
    "Plot a bar chart (with matplotlib)"
   ]
  },
  {
   "cell_type": "code",
   "execution_count": 11,
   "id": "314d8a1f",
   "metadata": {},
   "outputs": [],
   "source": [
    "import matplotlib.pyplot as plt"
   ]
  },
  {
   "cell_type": "code",
   "execution_count": 12,
   "id": "3d8f8c78",
   "metadata": {},
   "outputs": [
    {
     "name": "stdout",
     "output_type": "stream",
     "text": [
      "{1: 163, 2: 167, 3: 178, 4: 162, 5: 154, 6: 176}\n"
     ]
    },
    {
     "data": {
      "image/png": "[encoded data removed]",
      "text/plain": [
       "<Figure size 640x480 with 1 Axes>"
      ]
     },
     "metadata": {},
     "output_type": "display_data"
    }
   ],
   "source": [
    "rolls = np.random.randint(1,7, size=1000)\n",
    "frequency = {1:0,2:0,3:0,4:0,5:0,6:0}\n",
    "for roll in rolls:\n",
    "    frequency[roll] +=1\n",
    "print(frequency)\n",
    "plt.bar(list(frequency.keys()), list(frequency.values()), width=0.5)\n",
    "plt.xlabel('rolls')\n",
    "plt.ylabel('frequency')\n",
    "plt.title('rolling a die')\n",
    "plt.grid(axis='y', linestyle='--', alpha=0.6)\n",
    "plt.show()"
   ]
  },
  {
   "cell_type": "code",
   "execution_count": 13,
   "id": "e3bbc688",
   "metadata": {},
   "outputs": [
    {
     "data": {
      "text/plain": [
       "(array([1, 2, 3, 4, 5, 6], dtype=int32), array([163, 167, 178, 162, 154, 176]))"
      ]
     },
     "execution_count": 13,
     "metadata": {},
     "output_type": "execute_result"
    }
   ],
   "source": [
    "np.unique(rolls), np.bincount(rolls)[1:]"
   ]
  },
  {
   "cell_type": "markdown",
   "id": "07ef914e",
   "metadata": {},
   "source": [
    "### 7. Fibonacci Generator using NumPy\n",
    "📌 Problem Statement:\n",
    "Generate the first 20 Fibonacci numbers using a NumPy array."
   ]
  },
  {
   "cell_type": "code",
   "execution_count": 14,
   "id": "4c61f4f3",
   "metadata": {},
   "outputs": [
    {
     "name": "stdout",
     "output_type": "stream",
     "text": [
      "[   0    1    1    2    3    5    8   13   21   34   55   89  144  233\n",
      "  377  610  987 1597 2584 4181]\n"
     ]
    }
   ],
   "source": [
    "fib = np.zeros(20, dtype=int)\n",
    "fib[0] = 0\n",
    "fib[1] = 1\n",
    "for i in range(2, 20):\n",
    "    fib[i] = fib[i - 1] + fib[i - 2]\n",
    "print(fib)"
   ]
  },
  {
   "cell_type": "markdown",
   "id": "08fd3e52",
   "metadata": {},
   "source": [
    "### 8. Multiplication Table Generator\n",
    "📌 Problem Statement:\n",
    "Create a 10x10 multiplication table using broadcasting."
   ]
  },
  {
   "cell_type": "code",
   "execution_count": 20,
   "id": "076f4ca9",
   "metadata": {},
   "outputs": [
    {
     "data": {
      "text/plain": [
       "array([[  1.,   2.,   3.,   4.,   5.,   6.,   7.,   8.,   9.,  10.],\n",
       "       [  2.,   4.,   6.,   8.,  10.,  12.,  14.,  16.,  18.,  20.],\n",
       "       [  3.,   6.,   9.,  12.,  15.,  18.,  21.,  24.,  27.,  30.],\n",
       "       [  4.,   8.,  12.,  16.,  20.,  24.,  28.,  32.,  36.,  40.],\n",
       "       [  5.,  10.,  15.,  20.,  25.,  30.,  35.,  40.,  45.,  50.],\n",
       "       [  6.,  12.,  18.,  24.,  30.,  36.,  42.,  48.,  54.,  60.],\n",
       "       [  7.,  14.,  21.,  28.,  35.,  42.,  49.,  56.,  63.,  70.],\n",
       "       [  8.,  16.,  24.,  32.,  40.,  48.,  56.,  64.,  72.,  80.],\n",
       "       [  9.,  18.,  27.,  36.,  45.,  54.,  63.,  72.,  81.,  90.],\n",
       "       [ 10.,  20.,  30.,  40.,  50.,  60.,  70.,  80.,  90., 100.]])"
      ]
     },
     "execution_count": 20,
     "metadata": {},
     "output_type": "execute_result"
    }
   ],
   "source": [
    "array = np.array([1,2,3,4,5,6,7,8,9,10])\n",
    "matrix = np.ones(shape=(10,10))\n",
    "for i in range(len(matrix)):\n",
    "    for j in range(len(matrix[0])):\n",
    "        matrix[i][j] = (i+1)*(j+1)\n",
    "matrix"
   ]
  },
  {
   "cell_type": "code",
   "execution_count": 22,
   "id": "ab0cc434",
   "metadata": {},
   "outputs": [
    {
     "name": "stdout",
     "output_type": "stream",
     "text": [
      "[[  1   2   3   4   5   6   7   8   9  10]\n",
      " [  2   4   6   8  10  12  14  16  18  20]\n",
      " [  3   6   9  12  15  18  21  24  27  30]\n",
      " [  4   8  12  16  20  24  28  32  36  40]\n",
      " [  5  10  15  20  25  30  35  40  45  50]\n",
      " [  6  12  18  24  30  36  42  48  54  60]\n",
      " [  7  14  21  28  35  42  49  56  63  70]\n",
      " [  8  16  24  32  40  48  56  64  72  80]\n",
      " [  9  18  27  36  45  54  63  72  81  90]\n",
      " [ 10  20  30  40  50  60  70  80  90 100]]\n"
     ]
    }
   ],
   "source": [
    "row = np.arange(1, 11).reshape(10, 1)  \n",
    "col = np.arange(1, 11)\n",
    "table = row * col\n",
    "print(table)"
   ]
  },
  {
   "cell_type": "markdown",
   "id": "a5bf737a",
   "metadata": {},
   "source": [
    "### 9. Identity & Diagonal Matrix Checker\n",
    "📌 Problem Statement:\n",
    "Check if a given 2D NumPy array is:\n",
    "\n",
    "An identity matrix\n",
    "\n",
    "A diagonal matrix"
   ]
  },
  {
   "cell_type": "code",
   "execution_count": null,
   "id": "cd1ec00e",
   "metadata": {},
   "outputs": [
    {
     "name": "stdout",
     "output_type": "stream",
     "text": [
      "diagonal and identity matrix\n",
      "not diagonal matrix\n",
      "not an identity matrix\n",
      "diagonal and identity matrix\n",
      "please provide matrix in dimensions 2\n"
     ]
    }
   ],
   "source": [
    "def check_diag_identity(matrix):\n",
    "    shape = matrix.shape\n",
    "    if len(shape) != 2:\n",
    "        return \"please provide matrix in dimensions 2\"\n",
    "    if shape[0] != shape[1]:\n",
    "        return \"please provide equal no. of rows and cols\"\n",
    "    for i in range(len(matrix)):\n",
    "        for j in range(len(matrix[0])):\n",
    "            if i != j:\n",
    "                if matrix[i][j] != 0:\n",
    "                    return \"not diagonal matrix\"\n",
    "    if not np.array_equal(matrix, np.eye(shape[0])):\n",
    "        return \"not an identity matrix\"\n",
    "    return \"diagonal and identity matrix\"\n",
    "\n",
    "matrix1 = np.array([[1, 0, 0], [0, 1, 0], [0, 0, 1]])  # Identity matrix\n",
    "matrix2 = np.array([[1, 2, 3], [4, 5, 6], [7, 8, 9]])  # Not diagonal or identity\n",
    "matrix3 = np.array([[1, 0, 0], [0, 2, 0], [0, 0, 3]])  # Diagonal but not identity\n",
    "matrix4 = np.array([[1, 0], [0, 1]])  # 2x2 identity matrix\n",
    "matrix5 = np.array([1, 2, 3])  # Not a 2D matrix\n",
    "\n",
    "print(check_diag_identity(matrix1))  # Should print \"diagonal and identity matrix\"\n",
    "print(check_diag_identity(matrix2))  # Should print \"not diagonal matrix\"\n",
    "print(check_diag_identity(matrix3))  # Should print \"not an identity matrix\"\n",
    "print(check_diag_identity(matrix4))  # Should print \"diagonal and identity matrix\"\n",
    "print(check_diag_identity(matrix5))  # Should print \"please provide matrix in dimensions 2\""
   ]
  },
  {
   "cell_type": "code",
   "execution_count": null,
   "id": "3ba68793",
   "metadata": {},
   "outputs": [
    {
     "ename": "TypeError",
     "evalue": "diag() missing 1 required positional argument: 'v'",
     "output_type": "error",
     "traceback": [
      "\u001b[31m---------------------------------------------------------------------------\u001b[39m",
      "\u001b[31mTypeError\u001b[39m                                 Traceback (most recent call last)",
      "\u001b[36mCell\u001b[39m\u001b[36m \u001b[39m\u001b[32mIn[23]\u001b[39m\u001b[32m, line 1\u001b[39m\n\u001b[32m----> \u001b[39m\u001b[32m1\u001b[39m \u001b[43mnp\u001b[49m\u001b[43m.\u001b[49m\u001b[43mdiag\u001b[49m\u001b[43m(\u001b[49m\u001b[43m)\u001b[49m\n",
      "\u001b[31mTypeError\u001b[39m: diag() missing 1 required positional argument: 'v'"
     ]
    }
   ],
   "source": [
    "import numpy as np\n",
    "\n",
    "def check_diag_identity(matrix):\n",
    "    shape = matrix.shape\n",
    "    if len(shape) != 2:\n",
    "        return \"please provide matrix in dimensions 2\"\n",
    "    if shape[0] != shape[1]:\n",
    "        return \"please provide equal no. of rows and cols\"\n",
    "    for i in range(len(matrix)):\n",
    "        for j in range(len(matrix[0])):\n",
    "            if i != j:\n",
    "                if matrix[i][j] != 0:\n",
    "                    return \"not diagonal matrix\"\n",
    "    if not np.array_equal(matrix, np.eye(shape[0])):\n",
    "        return \"not an identity matrix\"\n",
    "    return \"diagonal and identity matrix\"\n",
    "\n",
    "# Test cases\n",
    "matrix1 = np.array([[1, 0, 0], [0, 1, 0], [0, 0, 1]])  # Identity matrix\n",
    "matrix2 = np.array([[1, 2, 3], [4, 5, 6], [7, 8, 9]])  # Not diagonal or identity\n",
    "matrix3 = np.array([[1, 0, 0], [0, 2, 0], [0, 0, 3]])  # Diagonal but not identity\n",
    "matrix4 = np.array([[1, 0], [0, 1]])  # 2x2 identity matrix\n",
    "matrix5 = np.array([1, 2, 3])  # Not a 2D matrix\n",
    "\n",
    "print(check_diag_identity(matrix1))  # Should print \"diagonal and identity matrix\"\n",
    "print(check_diag_identity(matrix2))  # Should print \"not diagonal matrix\"\n",
    "print(check_diag_identity(matrix3))  # Should print \"not an identity matrix\"\n",
    "print(check_diag_identity(matrix4))  # Should print \"diagonal and identity matrix\"\n",
    "print(check_diag_identity(matrix5))  # Should print \"please provide matrix in dimensions 2\""
   ]
  },
  {
   "cell_type": "code",
   "execution_count": null,
   "id": "1193a1e4",
   "metadata": {},
   "outputs": [],
   "source": []
  }
 ],
 "metadata": {
  "kernelspec": {
   "display_name": "myenv (3.12.3)",
   "language": "python",
   "name": "python3"
  },
  "language_info": {
   "codemirror_mode": {
    "name": "ipython",
    "version": 3
   },
   "file_extension": ".py",
   "mimetype": "text/x-python",
   "name": "python",
   "nbconvert_exporter": "python",
   "pygments_lexer": "ipython3",
   "version": "3.12.3"
  }
 },
 "nbformat": 4,
 "nbformat_minor": 5
}
