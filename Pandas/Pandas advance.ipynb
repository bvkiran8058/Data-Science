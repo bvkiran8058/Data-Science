{
 "cells": [
  {
   "cell_type": "code",
   "execution_count": 1,
   "id": "d6a0ac22",
   "metadata": {},
   "outputs": [
    {
     "data": {
      "text/plain": [
       "'2.3.0'"
      ]
     },
     "execution_count": 1,
     "metadata": {},
     "output_type": "execute_result"
    }
   ],
   "source": [
    "import pandas as pd\n",
    "pd.__version__"
   ]
  },
  {
   "cell_type": "markdown",
   "id": "1b8d3aa1",
   "metadata": {},
   "source": [
    "## Pandas Categorical"
   ]
  },
  {
   "cell_type": "markdown",
   "id": "46ed6faa",
   "metadata": {},
   "source": [
    "### create a categorical series"
   ]
  },
  {
   "cell_type": "code",
   "execution_count": 2,
   "id": "901fe356",
   "metadata": {},
   "outputs": [
    {
     "data": {
      "text/plain": [
       "0    a\n",
       "1    b\n",
       "2    c\n",
       "3    d\n",
       "4    1\n",
       "dtype: category\n",
       "Categories (5, object): ['1', 'a', 'b', 'c', 'd']"
      ]
     },
     "execution_count": 2,
     "metadata": {},
     "output_type": "execute_result"
    }
   ],
   "source": [
    "data = ['a', 'b', 'c', 'd', '1']\n",
    "ser = pd.Series(data, dtype=\"category\")\n",
    "ser"
   ]
  },
  {
   "cell_type": "markdown",
   "id": "cabdbbe6",
   "metadata": {},
   "source": [
    "### Create Categorical DataFrame"
   ]
  },
  {
   "cell_type": "code",
   "execution_count": 3,
   "id": "0c3589a7",
   "metadata": {},
   "outputs": [
    {
     "name": "stdout",
     "output_type": "stream",
     "text": [
      "DataFrame = \n",
      "   Cat1 Cat2 Cat3\n",
      "0    p    p    q\n",
      "1    q    q    r\n",
      "2    r    r    r\n",
      "3    s    p    r\n",
      "\n",
      "DataType of each column = \n",
      " Cat1    category\n",
      "Cat2    category\n",
      "Cat3    category\n",
      "dtype: object\n"
     ]
    }
   ],
   "source": [
    "df = pd.DataFrame({\"Cat1\": list(\"pqrs\"), \"Cat2\": list(\"pqrp\"), \"Cat3\": list(\"qrrr\")}, dtype=\"category\")\n",
    "print(\"DataFrame = \\n\", df)\n",
    " \n",
    "# Display the datatypes\n",
    "print(\"\\nDataType of each column = \\n\", df.dtypes)\n"
   ]
  },
  {
   "cell_type": "code",
   "execution_count": 4,
   "id": "8d895ed1",
   "metadata": {},
   "outputs": [
    {
     "name": "stdout",
     "output_type": "stream",
     "text": [
      "Cat1 category\n",
      "Cat2 category\n",
      "Cat3 category\n"
     ]
    }
   ],
   "source": [
    "for i,j in df.dtypes.items():\n",
    "    print(i, j)"
   ]
  },
  {
   "cell_type": "markdown",
   "id": "300479d5",
   "metadata": {},
   "source": [
    "## Pandas – Indexing & Selecting"
   ]
  },
  {
   "cell_type": "code",
   "execution_count": 10,
   "id": "f6076db6",
   "metadata": {},
   "outputs": [
    {
     "data": {
      "text/html": [
       "<div>\n",
       "<style scoped>\n",
       "    .dataframe tbody tr th:only-of-type {\n",
       "        vertical-align: middle;\n",
       "    }\n",
       "\n",
       "    .dataframe tbody tr th {\n",
       "        vertical-align: top;\n",
       "    }\n",
       "\n",
       "    .dataframe thead th {\n",
       "        text-align: right;\n",
       "    }\n",
       "</style>\n",
       "<table border=\"1\" class=\"dataframe\">\n",
       "  <thead>\n",
       "    <tr style=\"text-align: right;\">\n",
       "      <th></th>\n",
       "      <th>StudentID</th>\n",
       "      <th>Name</th>\n",
       "      <th>Age</th>\n",
       "      <th>Grade</th>\n",
       "      <th>MathScore</th>\n",
       "      <th>EnglishScore</th>\n",
       "    </tr>\n",
       "  </thead>\n",
       "  <tbody>\n",
       "    <tr>\n",
       "      <th>0</th>\n",
       "      <td>1</td>\n",
       "      <td>Alice</td>\n",
       "      <td>14</td>\n",
       "      <td>9th</td>\n",
       "      <td>88</td>\n",
       "      <td>90</td>\n",
       "    </tr>\n",
       "    <tr>\n",
       "      <th>1</th>\n",
       "      <td>2</td>\n",
       "      <td>Bob</td>\n",
       "      <td>15</td>\n",
       "      <td>10th</td>\n",
       "      <td>92</td>\n",
       "      <td>85</td>\n",
       "    </tr>\n",
       "    <tr>\n",
       "      <th>2</th>\n",
       "      <td>3</td>\n",
       "      <td>Charlie</td>\n",
       "      <td>14</td>\n",
       "      <td>9th</td>\n",
       "      <td>85</td>\n",
       "      <td>88</td>\n",
       "    </tr>\n",
       "    <tr>\n",
       "      <th>3</th>\n",
       "      <td>4</td>\n",
       "      <td>David</td>\n",
       "      <td>16</td>\n",
       "      <td>11th</td>\n",
       "      <td>90</td>\n",
       "      <td>92</td>\n",
       "    </tr>\n",
       "    <tr>\n",
       "      <th>4</th>\n",
       "      <td>5</td>\n",
       "      <td>Eva</td>\n",
       "      <td>15</td>\n",
       "      <td>10th</td>\n",
       "      <td>78</td>\n",
       "      <td>80</td>\n",
       "    </tr>\n",
       "  </tbody>\n",
       "</table>\n",
       "</div>"
      ],
      "text/plain": [
       "   StudentID     Name  Age Grade  MathScore  EnglishScore\n",
       "0          1    Alice   14   9th         88            90\n",
       "1          2      Bob   15  10th         92            85\n",
       "2          3  Charlie   14   9th         85            88\n",
       "3          4    David   16  11th         90            92\n",
       "4          5      Eva   15  10th         78            80"
      ]
     },
     "execution_count": 10,
     "metadata": {},
     "output_type": "execute_result"
    }
   ],
   "source": [
    "students = pd.read_excel(\"../data/sample_students.xlsx\")\n",
    "students.head()"
   ]
  },
  {
   "cell_type": "code",
   "execution_count": null,
   "id": "1b6f4f3c",
   "metadata": {},
   "outputs": [],
   "source": []
  }
 ],
 "metadata": {
  "kernelspec": {
   "display_name": "myenv (3.12.3)",
   "language": "python",
   "name": "python3"
  },
  "language_info": {
   "codemirror_mode": {
    "name": "ipython",
    "version": 3
   },
   "file_extension": ".py",
   "mimetype": "text/x-python",
   "name": "python",
   "nbconvert_exporter": "python",
   "pygments_lexer": "ipython3",
   "version": "3.12.3"
  }
 },
 "nbformat": 4,
 "nbformat_minor": 5
}
