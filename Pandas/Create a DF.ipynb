{
 "cells": [
  {
   "cell_type": "code",
   "execution_count": 1,
   "id": "3ac88ad9",
   "metadata": {},
   "outputs": [
    {
     "data": {
      "text/plain": [
       "'2.3.0'"
      ]
     },
     "execution_count": 1,
     "metadata": {},
     "output_type": "execute_result"
    }
   ],
   "source": [
    "import pandas as pd\n",
    "pd.__version__"
   ]
  },
  {
   "cell_type": "markdown",
   "id": "d96b7fca",
   "metadata": {},
   "source": [
    "# Series"
   ]
  },
  {
   "cell_type": "code",
   "execution_count": 42,
   "id": "c5fe700f",
   "metadata": {},
   "outputs": [
    {
     "data": {
      "text/plain": [
       "s1     10\n",
       "s2     20\n",
       "s3     40\n",
       "s4     80\n",
       "s5    100\n",
       "Name: NUMBERS, dtype: int64"
      ]
     },
     "execution_count": 42,
     "metadata": {},
     "output_type": "execute_result"
    }
   ],
   "source": [
    "data = [10, 20, 40, 80, 100]\n",
    "ser = pd.Series(data, index = ['s1', 's2', 's3', 's4', 's5'], name='NUMBERS')\n",
    "ser"
   ]
  },
  {
   "cell_type": "markdown",
   "id": "e2195f6f",
   "metadata": {},
   "source": [
    "## indexing"
   ]
  },
  {
   "cell_type": "code",
   "execution_count": 43,
   "id": "d76fc64c",
   "metadata": {},
   "outputs": [
    {
     "name": "stderr",
     "output_type": "stream",
     "text": [
      "C:\\Users\\bvkir\\AppData\\Local\\Temp\\ipykernel_5360\\1726416428.py:1: FutureWarning: Series.__getitem__ treating keys as positions is deprecated. In a future version, integer keys will always be treated as labels (consistent with DataFrame behavior). To access a value by position, use `ser.iloc[pos]`\n",
      "  ser[0], ser[1], ser['s3']\n"
     ]
    },
    {
     "data": {
      "text/plain": [
       "(np.int64(10), np.int64(20), np.int64(40))"
      ]
     },
     "execution_count": 43,
     "metadata": {},
     "output_type": "execute_result"
    }
   ],
   "source": [
    "ser[0], ser[1], ser['s3']"
   ]
  },
  {
   "cell_type": "markdown",
   "id": "725ee151",
   "metadata": {},
   "source": [
    "## slicing"
   ]
  },
  {
   "cell_type": "code",
   "execution_count": 44,
   "id": "61c15324",
   "metadata": {},
   "outputs": [
    {
     "data": {
      "text/plain": [
       "(s2    20\n",
       " s3    40\n",
       " Name: NUMBERS, dtype: int64,\n",
       " s1    10\n",
       " s2    20\n",
       " s3    40\n",
       " s4    80\n",
       " Name: NUMBERS, dtype: int64)"
      ]
     },
     "execution_count": 44,
     "metadata": {},
     "output_type": "execute_result"
    }
   ],
   "source": [
    "ser[1:3], ser[:'s4']"
   ]
  },
  {
   "cell_type": "markdown",
   "id": "241baabd",
   "metadata": {},
   "source": [
    "## Pandas Series – Attributes and Methods\n",
    "dtype: Return the dtype.\n",
    "\n",
    "ndim: Return the Number of dimensions\n",
    "\n",
    "size: Return the number of elements.\n",
    "\n",
    "name: Return the name of the Series.\n",
    "\n",
    "hasnans: Returns True if NaNs are in the series.\n",
    "\n",
    "index: The index of the series\n",
    "\n",
    "head(): Return the first n rows.\n",
    "\n",
    "tail(): Return the last n rows.\n",
    "\n",
    "info(): Display the Summary of the series"
   ]
  },
  {
   "cell_type": "code",
   "execution_count": 45,
   "id": "77864f96",
   "metadata": {},
   "outputs": [
    {
     "name": "stdout",
     "output_type": "stream",
     "text": [
      "<class 'pandas.core.series.Series'>\n",
      "Index: 5 entries, s1 to s5\n",
      "Series name: NUMBERS\n",
      "Non-Null Count  Dtype\n",
      "--------------  -----\n",
      "5 non-null      int64\n",
      "dtypes: int64(1)\n",
      "memory usage: 252.0+ bytes\n"
     ]
    },
    {
     "data": {
      "text/plain": [
       "(dtype('int64'),\n",
       " 1,\n",
       " 5,\n",
       " 'NUMBERS',\n",
       " False,\n",
       " Index(['s1', 's2', 's3', 's4', 's5'], dtype='object'),\n",
       " s1    10\n",
       " s2    20\n",
       " Name: NUMBERS, dtype: int64,\n",
       " None)"
      ]
     },
     "execution_count": 45,
     "metadata": {},
     "output_type": "execute_result"
    }
   ],
   "source": [
    "ser.dtype, ser.ndim, ser.size, ser.name, ser.hasnans, ser.index, ser.head(2), ser.info()"
   ]
  },
  {
   "cell_type": "markdown",
   "id": "968db147",
   "metadata": {},
   "source": [
    "## Combine"
   ]
  },
  {
   "cell_type": "code",
   "execution_count": 47,
   "id": "ce7c3410",
   "metadata": {},
   "outputs": [
    {
     "name": "stdout",
     "output_type": "stream",
     "text": [
      "Before combining the series:\n",
      "\n",
      "Series1: \n",
      " 0     10\n",
      "1     20\n",
      "2     40\n",
      "3     80\n",
      "4    100\n",
      "dtype: int64\n",
      "Series2: \n",
      " 0    25\n",
      "1     5\n",
      "2    75\n",
      "3    95\n",
      "4    45\n",
      "dtype: int64\n",
      "\n",
      "After combining into one:\n",
      " 0     25\n",
      "1     20\n",
      "2     75\n",
      "3     95\n",
      "4    100\n",
      "dtype: int64\n"
     ]
    }
   ],
   "source": [
    "import pandas as pd\n",
    " \n",
    "# Data to be stored in the Pandas Series\n",
    "data1 = [10, 20, 40, 80, 100]\n",
    "data2 = [25, 5, 75, 95, 45] \n",
    " \n",
    "# Create a Series using the Series() method\n",
    "series1 = pd.Series(data1)\n",
    "series2 = pd.Series(data2)\n",
    " \n",
    "# Display the Series\n",
    "print(\"Before combining the series:\\n\") \n",
    "print(\"Series1: \\n\",series1)\n",
    "print(\"Series2: \\n\",series2)\n",
    " \n",
    "def demo(x1, x2) :\n",
    "  if (x1 > x2):\n",
    "    return x1\n",
    "  else:\n",
    "    return x2\n",
    " \n",
    "# Combine two series into one\n",
    "# The function returns the largest value\n",
    "res = series1.combine(series2, demo) \n",
    "  \n",
    "# Display the result\n",
    "print(\"\\nAfter combining into one:\\n\",res)"
   ]
  },
  {
   "cell_type": "markdown",
   "id": "97a77e82",
   "metadata": {},
   "source": [
    "# DataFrame"
   ]
  },
  {
   "cell_type": "code",
   "execution_count": 2,
   "id": "229a2e0b",
   "metadata": {},
   "outputs": [
    {
     "name": "stdout",
     "output_type": "stream",
     "text": [
      "Student Records\n",
      "\n",
      "   student  rank  marks\n",
      "0    Amit     1     95\n",
      "1    John     4     70\n",
      "2   Jacob     3     80\n",
      "3   David     5     60\n",
      "4   Steve     2     90\n"
     ]
    }
   ],
   "source": [
    "data = {\n",
    "  'student': [\"Amit\", \"John\", \"Jacob\", \"David\", \"Steve\"],\n",
    "  'rank': [1, 4, 3, 5, 2],\n",
    "  'marks': [95, 70, 80, 60, 90]\n",
    "}\n",
    " \n",
    "df = pd.DataFrame(data)\n",
    " \n",
    "print(\"Student Records\\n\\n\",df)"
   ]
  },
  {
   "cell_type": "markdown",
   "id": "d5277f58",
   "metadata": {},
   "source": [
    "## indexing"
   ]
  },
  {
   "cell_type": "code",
   "execution_count": 7,
   "id": "cd045f19",
   "metadata": {},
   "outputs": [
    {
     "name": "stdout",
     "output_type": "stream",
     "text": [
      "Student Records \n",
      "\n",
      "     student  rank  marks\n",
      "RowA    Amit     1     95\n",
      "RowB    John     4     70\n",
      "RowC   Jacob     3     80\n",
      "RowD   David     5     60\n",
      "RowE   Steve     2     90\n",
      "\n",
      "\n",
      "rowa student = Amit\n",
      "by using iloc = Amit\n"
     ]
    }
   ],
   "source": [
    "df = pd.DataFrame(data, index=['RowA', 'RowB', 'RowC', 'RowD', 'RowE'])\n",
    "print(f'Student Records \\n\\n{df}')\n",
    "# I want RowA, and Student\n",
    "print(f'\\n\\nrowa student = {df.loc['RowA', 'student']}')\n",
    "print(f'by using iloc = {df.iloc[0,0]}')"
   ]
  },
  {
   "cell_type": "code",
   "execution_count": 8,
   "id": "9336560f",
   "metadata": {},
   "outputs": [
    {
     "data": {
      "text/html": [
       "<div>\n",
       "<style scoped>\n",
       "    .dataframe tbody tr th:only-of-type {\n",
       "        vertical-align: middle;\n",
       "    }\n",
       "\n",
       "    .dataframe tbody tr th {\n",
       "        vertical-align: top;\n",
       "    }\n",
       "\n",
       "    .dataframe thead th {\n",
       "        text-align: right;\n",
       "    }\n",
       "</style>\n",
       "<table border=\"1\" class=\"dataframe\">\n",
       "  <thead>\n",
       "    <tr style=\"text-align: right;\">\n",
       "      <th></th>\n",
       "      <th>student</th>\n",
       "      <th>rank</th>\n",
       "      <th>marks</th>\n",
       "    </tr>\n",
       "  </thead>\n",
       "  <tbody>\n",
       "    <tr>\n",
       "      <th>Student1</th>\n",
       "      <td>Amit</td>\n",
       "      <td>1</td>\n",
       "      <td>95</td>\n",
       "    </tr>\n",
       "    <tr>\n",
       "      <th>Student2</th>\n",
       "      <td>John</td>\n",
       "      <td>4</td>\n",
       "      <td>70</td>\n",
       "    </tr>\n",
       "    <tr>\n",
       "      <th>Student3</th>\n",
       "      <td>Jacob</td>\n",
       "      <td>3</td>\n",
       "      <td>80</td>\n",
       "    </tr>\n",
       "    <tr>\n",
       "      <th>Student4</th>\n",
       "      <td>David</td>\n",
       "      <td>5</td>\n",
       "      <td>60</td>\n",
       "    </tr>\n",
       "    <tr>\n",
       "      <th>Student5</th>\n",
       "      <td>Steve</td>\n",
       "      <td>2</td>\n",
       "      <td>90</td>\n",
       "    </tr>\n",
       "  </tbody>\n",
       "</table>\n",
       "</div>"
      ],
      "text/plain": [
       "         student  rank  marks\n",
       "Student1    Amit     1     95\n",
       "Student2    John     4     70\n",
       "Student3   Jacob     3     80\n",
       "Student4   David     5     60\n",
       "Student5   Steve     2     90"
      ]
     },
     "execution_count": 8,
     "metadata": {},
     "output_type": "execute_result"
    }
   ],
   "source": [
    "df = pd.DataFrame(data,  index=['Student1', 'Student2', 'Student3', 'Student4', 'Student5'],)\n",
    "df"
   ]
  },
  {
   "cell_type": "code",
   "execution_count": 10,
   "id": "7d91b884",
   "metadata": {},
   "outputs": [
    {
     "name": "stdout",
     "output_type": "stream",
     "text": [
      "\n",
      "Displaying the columns:\n",
      "student\n",
      "rank\n",
      "marks\n"
     ]
    },
    {
     "data": {
      "text/plain": [
       "Index(['student', 'rank', 'marks'], dtype='object')"
      ]
     },
     "execution_count": 10,
     "metadata": {},
     "output_type": "execute_result"
    }
   ],
   "source": [
    "print(\"\\nDisplaying the columns:\")\n",
    "for col in df:\n",
    "   print(col)\n",
    "df.columns"
   ]
  },
  {
   "cell_type": "markdown",
   "id": "31d28b47",
   "metadata": {},
   "source": [
    "## slicing"
   ]
  },
  {
   "cell_type": "code",
   "execution_count": 11,
   "id": "0502a17a",
   "metadata": {},
   "outputs": [
    {
     "data": {
      "text/html": [
       "<div>\n",
       "<style scoped>\n",
       "    .dataframe tbody tr th:only-of-type {\n",
       "        vertical-align: middle;\n",
       "    }\n",
       "\n",
       "    .dataframe tbody tr th {\n",
       "        vertical-align: top;\n",
       "    }\n",
       "\n",
       "    .dataframe thead th {\n",
       "        text-align: right;\n",
       "    }\n",
       "</style>\n",
       "<table border=\"1\" class=\"dataframe\">\n",
       "  <thead>\n",
       "    <tr style=\"text-align: right;\">\n",
       "      <th></th>\n",
       "      <th>student</th>\n",
       "      <th>rank</th>\n",
       "      <th>marks</th>\n",
       "    </tr>\n",
       "  </thead>\n",
       "  <tbody>\n",
       "    <tr>\n",
       "      <th>Student1</th>\n",
       "      <td>Amit</td>\n",
       "      <td>1</td>\n",
       "      <td>95</td>\n",
       "    </tr>\n",
       "    <tr>\n",
       "      <th>Student2</th>\n",
       "      <td>John</td>\n",
       "      <td>4</td>\n",
       "      <td>70</td>\n",
       "    </tr>\n",
       "    <tr>\n",
       "      <th>Student3</th>\n",
       "      <td>Jacob</td>\n",
       "      <td>3</td>\n",
       "      <td>80</td>\n",
       "    </tr>\n",
       "    <tr>\n",
       "      <th>Student4</th>\n",
       "      <td>David</td>\n",
       "      <td>5</td>\n",
       "      <td>60</td>\n",
       "    </tr>\n",
       "    <tr>\n",
       "      <th>Student5</th>\n",
       "      <td>Steve</td>\n",
       "      <td>2</td>\n",
       "      <td>90</td>\n",
       "    </tr>\n",
       "  </tbody>\n",
       "</table>\n",
       "</div>"
      ],
      "text/plain": [
       "         student  rank  marks\n",
       "Student1    Amit     1     95\n",
       "Student2    John     4     70\n",
       "Student3   Jacob     3     80\n",
       "Student4   David     5     60\n",
       "Student5   Steve     2     90"
      ]
     },
     "execution_count": 11,
     "metadata": {},
     "output_type": "execute_result"
    }
   ],
   "source": [
    "df"
   ]
  },
  {
   "cell_type": "code",
   "execution_count": 15,
   "id": "fb194644",
   "metadata": {},
   "outputs": [
    {
     "name": "stdout",
     "output_type": "stream",
     "text": [
      "         student  rank  marks\n",
      "Student1    Amit     1     95\n",
      "Student2    John     4     70\n",
      "Student3   Jacob     3     80 \n",
      " student    John\n",
      "rank          4\n",
      "Name: Student2, dtype: object\n"
     ]
    }
   ],
   "source": [
    "print(df.iloc[0:3, :], '\\n', df.iloc[1, :2])"
   ]
  },
  {
   "cell_type": "code",
   "execution_count": 20,
   "id": "265d79ca",
   "metadata": {},
   "outputs": [
    {
     "data": {
      "text/plain": [
       "(Student1    Amit\n",
       " Student2    John\n",
       " Name: student, dtype: object,\n",
       "          student  rank\n",
       " Student1    Amit     1\n",
       " Student2    John     4\n",
       " Student3   Jacob     3)"
      ]
     },
     "execution_count": 20,
     "metadata": {},
     "output_type": "execute_result"
    }
   ],
   "source": [
    "df.loc['Student1':'Student2', 'student'], df.loc['Student1':'Student3', 'student':'rank']"
   ]
  },
  {
   "cell_type": "markdown",
   "id": "b0c998b9",
   "metadata": {},
   "source": [
    "## DataFrame – Attributes and Methods\n",
    "dtypes: Return the dtypes in the DataFrame\n",
    "\n",
    "ndim: Return the number of dimensions of the DataFrame\n",
    "\n",
    "size: Return the number of elements in the DataFrame.\n",
    "\n",
    "shape: Return the dimensionality of the DataFrame in the form of a tuple.\n",
    "\n",
    "index: Return the index of the DataFrame\n",
    "\n",
    "T: Transpose the rows and columns\n",
    "\n",
    "head(): Return the first n rows.\n",
    "\n",
    "tail(): Return the last n rows."
   ]
  },
  {
   "cell_type": "code",
   "execution_count": 25,
   "id": "d33092c0",
   "metadata": {},
   "outputs": [
    {
     "data": {
      "text/plain": [
       "(student    object\n",
       " rank        int64\n",
       " marks       int64\n",
       " dtype: object,\n",
       " 2,\n",
       " 15,\n",
       " (5, 3),\n",
       " Index(['Student1', 'Student2', 'Student3', 'Student4', 'Student5'], dtype='object'),\n",
       " Index(['student', 'rank', 'marks'], dtype='object'),\n",
       "         Student1 Student2 Student3 Student4 Student5\n",
       " student     Amit     John    Jacob    David    Steve\n",
       " rank           1        4        3        5        2\n",
       " marks         95       70       80       60       90,\n",
       "          student  rank  marks\n",
       " Student1    Amit     1     95\n",
       " Student2    John     4     70,\n",
       "          student  rank  marks\n",
       " Student1    Amit     1     95\n",
       " Student2    John     4     70\n",
       " Student3   Jacob     3     80\n",
       " Student4   David     5     60\n",
       " Student5   Steve     2     90)"
      ]
     },
     "execution_count": 25,
     "metadata": {},
     "output_type": "execute_result"
    }
   ],
   "source": [
    "df.dtypes, df.ndim, df.size, df.shape, df.index, df.columns, df.T, df.head(2), df.tail()"
   ]
  },
  {
   "cell_type": "markdown",
   "id": "fc7ad001",
   "metadata": {},
   "source": [
    "## Join Pandas DataFrame"
   ]
  },
  {
   "cell_type": "code",
   "execution_count": 27,
   "id": "b915ec58",
   "metadata": {},
   "outputs": [
    {
     "name": "stdout",
     "output_type": "stream",
     "text": [
      "df1 = \n",
      "    id student  roll\n",
      "0  S01    Amit   101\n",
      "1  S02    John   102\n",
      "2  S03   Jacob   103\n",
      "3  S04   David   104\n",
      "4  S05   Steve   105\n",
      "df2 = \n",
      "   rank  marks\n",
      "0     1     95\n",
      "1     4     70\n",
      "2     3     80\n",
      "3     5     60\n",
      "4     2     90\n",
      "df1 with df2 = \n",
      "    id student  roll  rank  marks\n",
      "0  S01    Amit   101     1     95\n",
      "1  S02    John   102     4     70\n",
      "2  S03   Jacob   103     3     80\n",
      "3  S04   David   104     5     60\n",
      "4  S05   Steve   105     2     90\n",
      "df2 with df1 = \n",
      "   rank  marks   id student  roll\n",
      "0     1     95  S01    Amit   101\n",
      "1     4     70  S02    John   102\n",
      "2     3     80  S03   Jacob   103\n",
      "3     5     60  S04   David   104\n",
      "4     2     90  S05   Steve   105\n"
     ]
    }
   ],
   "source": [
    "data1 = {\n",
    "  'id': [\"S01\", \"S02\", \"S03\", \"S04\", \"S05\"],\n",
    "  'student': [\"Amit\", \"John\", \"Jacob\", \"David\", \"Steve\"],\n",
    "  'roll': [101, 102, 103, 104, 105]\n",
    "}\n",
    "data2 = {\n",
    "  'rank': [1, 4, 3, 5, 2],\n",
    "  'marks': [95, 70, 80, 60, 90]\n",
    "}\n",
    "df1 = pd.DataFrame(data1)\n",
    "df2 = pd.DataFrame(data2)\n",
    "df12 = df1.join(df2)\n",
    "df21 = df2.join(df1)\n",
    "print(f'df1 = \\n{df1}')\n",
    "print(f'df2 = \\n{df2}')\n",
    "print(f'df1 with df2 = \\n{df12}')\n",
    "print(f'df2 with df1 = \\n{df21}')"
   ]
  },
  {
   "cell_type": "markdown",
   "id": "4f941011",
   "metadata": {},
   "source": [
    "### using concatenate"
   ]
  },
  {
   "cell_type": "code",
   "execution_count": 34,
   "id": "ba82cc58",
   "metadata": {},
   "outputs": [
    {
     "data": {
      "text/plain": [
       "(    id student  roll  rank  marks\n",
       " 0  S01    Amit   101     1     95\n",
       " 1  S02    John   102     4     70\n",
       " 2  S03   Jacob   103     3     80\n",
       " 3  S04   David   104     5     60\n",
       " 4  S05   Steve   105     2     90,\n",
       "    rank  marks   id student  roll\n",
       " 0     1     95  S01    Amit   101\n",
       " 1     4     70  S02    John   102\n",
       " 2     3     80  S03   Jacob   103\n",
       " 3     5     60  S04   David   104\n",
       " 4     2     90  S05   Steve   105,\n",
       "     id student   roll  rank  marks\n",
       " 0  S01    Amit  101.0   NaN    NaN\n",
       " 1  S02    John  102.0   NaN    NaN\n",
       " 2  S03   Jacob  103.0   NaN    NaN\n",
       " 3  S04   David  104.0   NaN    NaN\n",
       " 4  S05   Steve  105.0   NaN    NaN\n",
       " 0  NaN     NaN    NaN   1.0   95.0\n",
       " 1  NaN     NaN    NaN   4.0   70.0\n",
       " 2  NaN     NaN    NaN   3.0   80.0\n",
       " 3  NaN     NaN    NaN   5.0   60.0\n",
       " 4  NaN     NaN    NaN   2.0   90.0)"
      ]
     },
     "execution_count": 34,
     "metadata": {},
     "output_type": "execute_result"
    }
   ],
   "source": [
    "con_df12 = pd.concat([df1, df2], axis=1)\n",
    "con_df21 = pd.concat([df2, df1], axis=1)\n",
    "con_df12_row = pd.concat([df1, df2], axis=0)\n",
    "con_df12, con_df21, con_df12_row"
   ]
  },
  {
   "cell_type": "code",
   "execution_count": 30,
   "id": "62bf37cd",
   "metadata": {},
   "outputs": [
    {
     "data": {
      "text/html": [
       "<div>\n",
       "<style scoped>\n",
       "    .dataframe tbody tr th:only-of-type {\n",
       "        vertical-align: middle;\n",
       "    }\n",
       "\n",
       "    .dataframe tbody tr th {\n",
       "        vertical-align: top;\n",
       "    }\n",
       "\n",
       "    .dataframe thead th {\n",
       "        text-align: right;\n",
       "    }\n",
       "</style>\n",
       "<table border=\"1\" class=\"dataframe\">\n",
       "  <thead>\n",
       "    <tr style=\"text-align: right;\">\n",
       "      <th></th>\n",
       "      <th>id</th>\n",
       "      <th>student</th>\n",
       "      <th>roll</th>\n",
       "      <th>rank</th>\n",
       "      <th>marks</th>\n",
       "    </tr>\n",
       "  </thead>\n",
       "  <tbody>\n",
       "    <tr>\n",
       "      <th>0</th>\n",
       "      <td>S01</td>\n",
       "      <td>Amit</td>\n",
       "      <td>101</td>\n",
       "      <td>1</td>\n",
       "      <td>95</td>\n",
       "    </tr>\n",
       "    <tr>\n",
       "      <th>1</th>\n",
       "      <td>S02</td>\n",
       "      <td>John</td>\n",
       "      <td>102</td>\n",
       "      <td>4</td>\n",
       "      <td>70</td>\n",
       "    </tr>\n",
       "    <tr>\n",
       "      <th>2</th>\n",
       "      <td>S03</td>\n",
       "      <td>Jacob</td>\n",
       "      <td>103</td>\n",
       "      <td>3</td>\n",
       "      <td>80</td>\n",
       "    </tr>\n",
       "    <tr>\n",
       "      <th>3</th>\n",
       "      <td>S04</td>\n",
       "      <td>David</td>\n",
       "      <td>104</td>\n",
       "      <td>5</td>\n",
       "      <td>60</td>\n",
       "    </tr>\n",
       "    <tr>\n",
       "      <th>4</th>\n",
       "      <td>S05</td>\n",
       "      <td>Steve</td>\n",
       "      <td>105</td>\n",
       "      <td>2</td>\n",
       "      <td>90</td>\n",
       "    </tr>\n",
       "  </tbody>\n",
       "</table>\n",
       "</div>"
      ],
      "text/plain": [
       "    id student  roll  rank  marks\n",
       "0  S01    Amit   101     1     95\n",
       "1  S02    John   102     4     70\n",
       "2  S03   Jacob   103     3     80\n",
       "3  S04   David   104     5     60\n",
       "4  S05   Steve   105     2     90"
      ]
     },
     "execution_count": 30,
     "metadata": {},
     "output_type": "execute_result"
    }
   ],
   "source": [
    "df12"
   ]
  },
  {
   "cell_type": "code",
   "execution_count": null,
   "id": "3cdd7c30",
   "metadata": {},
   "outputs": [],
   "source": []
  }
 ],
 "metadata": {
  "kernelspec": {
   "display_name": "myenv (3.12.3)",
   "language": "python",
   "name": "python3"
  },
  "language_info": {
   "codemirror_mode": {
    "name": "ipython",
    "version": 3
   },
   "file_extension": ".py",
   "mimetype": "text/x-python",
   "name": "python",
   "nbconvert_exporter": "python",
   "pygments_lexer": "ipython3",
   "version": "3.12.3"
  }
 },
 "nbformat": 4,
 "nbformat_minor": 5
}
